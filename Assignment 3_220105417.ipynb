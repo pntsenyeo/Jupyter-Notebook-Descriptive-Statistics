{
 "cells": [
  {
   "cell_type": "markdown",
   "id": "16f0191d",
   "metadata": {},
   "source": [
    "Names: Phumulo Ntsenyeo\n",
    "\n",
    "Student no: 220105417\n",
    "\n",
    "Assignment 3: Learn from data"
   ]
  },
  {
   "cell_type": "markdown",
   "id": "557fa8d9",
   "metadata": {},
   "source": [
    "#### Import libraries and read csv file"
   ]
  },
  {
   "cell_type": "code",
   "execution_count": 86,
   "id": "3959a1ec",
   "metadata": {},
   "outputs": [],
   "source": [
    "# import libraries\n",
    "import pandas as pd \n",
    "import numpy as np\n",
    "import matplotlib.pyplot as plt\n",
    "import seaborn as sns\n",
    "import statistics\n",
    "import collections"
   ]
  },
  {
   "cell_type": "code",
   "execution_count": 12,
   "id": "0a447b8a",
   "metadata": {
    "scrolled": true
   },
   "outputs": [
    {
     "data": {
      "text/html": [
       "<div>\n",
       "<style scoped>\n",
       "    .dataframe tbody tr th:only-of-type {\n",
       "        vertical-align: middle;\n",
       "    }\n",
       "\n",
       "    .dataframe tbody tr th {\n",
       "        vertical-align: top;\n",
       "    }\n",
       "\n",
       "    .dataframe thead th {\n",
       "        text-align: right;\n",
       "    }\n",
       "</style>\n",
       "<table border=\"1\" class=\"dataframe\">\n",
       "  <thead>\n",
       "    <tr style=\"text-align: right;\">\n",
       "      <th></th>\n",
       "      <th>CustomerID</th>\n",
       "      <th>Gender</th>\n",
       "      <th>Profession</th>\n",
       "      <th>Annual Income ($)</th>\n",
       "      <th>Age</th>\n",
       "      <th>Work Experience</th>\n",
       "      <th>Family Size</th>\n",
       "      <th>Spending Score (1-100)</th>\n",
       "    </tr>\n",
       "  </thead>\n",
       "  <tbody>\n",
       "    <tr>\n",
       "      <th>0</th>\n",
       "      <td>1</td>\n",
       "      <td>Male</td>\n",
       "      <td>Healthcare</td>\n",
       "      <td>15000</td>\n",
       "      <td>19</td>\n",
       "      <td>1</td>\n",
       "      <td>4</td>\n",
       "      <td>39</td>\n",
       "    </tr>\n",
       "    <tr>\n",
       "      <th>1</th>\n",
       "      <td>2</td>\n",
       "      <td>Male</td>\n",
       "      <td>Engineer</td>\n",
       "      <td>35000</td>\n",
       "      <td>21</td>\n",
       "      <td>3</td>\n",
       "      <td>3</td>\n",
       "      <td>81</td>\n",
       "    </tr>\n",
       "    <tr>\n",
       "      <th>2</th>\n",
       "      <td>3</td>\n",
       "      <td>Female</td>\n",
       "      <td>Engineer</td>\n",
       "      <td>86000</td>\n",
       "      <td>20</td>\n",
       "      <td>1</td>\n",
       "      <td>1</td>\n",
       "      <td>6</td>\n",
       "    </tr>\n",
       "    <tr>\n",
       "      <th>3</th>\n",
       "      <td>4</td>\n",
       "      <td>Female</td>\n",
       "      <td>Lawyer</td>\n",
       "      <td>59000</td>\n",
       "      <td>23</td>\n",
       "      <td>0</td>\n",
       "      <td>2</td>\n",
       "      <td>77</td>\n",
       "    </tr>\n",
       "    <tr>\n",
       "      <th>4</th>\n",
       "      <td>5</td>\n",
       "      <td>Female</td>\n",
       "      <td>Entertainment</td>\n",
       "      <td>38000</td>\n",
       "      <td>31</td>\n",
       "      <td>2</td>\n",
       "      <td>6</td>\n",
       "      <td>40</td>\n",
       "    </tr>\n",
       "  </tbody>\n",
       "</table>\n",
       "</div>"
      ],
      "text/plain": [
       "   CustomerID  Gender     Profession  Annual Income ($)  Age  Work Experience  \\\n",
       "0           1    Male     Healthcare              15000   19                1   \n",
       "1           2    Male       Engineer              35000   21                3   \n",
       "2           3  Female       Engineer              86000   20                1   \n",
       "3           4  Female         Lawyer              59000   23                0   \n",
       "4           5  Female  Entertainment              38000   31                2   \n",
       "\n",
       "   Family Size  Spending Score (1-100)  \n",
       "0            4                      39  \n",
       "1            3                      81  \n",
       "2            1                       6  \n",
       "3            2                      77  \n",
       "4            6                      40  "
      ]
     },
     "execution_count": 12,
     "metadata": {},
     "output_type": "execute_result"
    }
   ],
   "source": [
    "# read the csv file\n",
    "Data = pd.read_csv(r'C:\\Users\\pntsenye\\Documents\\my docs\\Data.csv')\n",
    "Data.head()"
   ]
  },
  {
   "cell_type": "markdown",
   "id": "790cc695",
   "metadata": {},
   "source": [
    "### 1. Data Exploration"
   ]
  },
  {
   "cell_type": "markdown",
   "id": "59aea583",
   "metadata": {},
   "source": [
    "### 1.1 Data Dimension\n",
    "\n",
    "Shape give us the dimension on the dataset.\n",
    "\n",
    "The data consist of 2000 rows and 8 columns"
   ]
  },
  {
   "cell_type": "code",
   "execution_count": 8,
   "id": "4ac029e0",
   "metadata": {},
   "outputs": [
    {
     "data": {
      "text/plain": [
       "(2000, 8)"
      ]
     },
     "execution_count": 8,
     "metadata": {},
     "output_type": "execute_result"
    }
   ],
   "source": [
    "# check dimension of data\n",
    "Data.shape"
   ]
  },
  {
   "cell_type": "markdown",
   "id": "543f3766",
   "metadata": {},
   "source": [
    "### 1.2 Check completeness\n",
    "\n",
    "All Columns seem to have 2000 non null except Profession. This indicate that there is missing data in the Proffession. A total of 35 values are missing."
   ]
  },
  {
   "cell_type": "code",
   "execution_count": 10,
   "id": "872bfc94",
   "metadata": {},
   "outputs": [
    {
     "name": "stdout",
     "output_type": "stream",
     "text": [
      "<class 'pandas.core.frame.DataFrame'>\n",
      "RangeIndex: 2000 entries, 0 to 1999\n",
      "Data columns (total 8 columns):\n",
      " #   Column                  Non-Null Count  Dtype \n",
      "---  ------                  --------------  ----- \n",
      " 0   CustomerID              2000 non-null   int64 \n",
      " 1   Gender                  2000 non-null   object\n",
      " 2   Profession              1965 non-null   object\n",
      " 3   Annual Income ($)       2000 non-null   int64 \n",
      " 4   Age                     2000 non-null   int64 \n",
      " 5   Work Experience         2000 non-null   int64 \n",
      " 6   Family Size             2000 non-null   int64 \n",
      " 7   Spending Score (1-100)  2000 non-null   int64 \n",
      "dtypes: int64(6), object(2)\n",
      "memory usage: 125.1+ KB\n"
     ]
    }
   ],
   "source": [
    "Data.info()"
   ]
  },
  {
   "cell_type": "markdown",
   "id": "c4c25ad3",
   "metadata": {},
   "source": [
    "### 1.3 Check Duplicates\n",
    "\n",
    "There is no duplicate in the data"
   ]
  },
  {
   "cell_type": "code",
   "execution_count": 15,
   "id": "2c08077a",
   "metadata": {},
   "outputs": [
    {
     "data": {
      "text/plain": [
       "0"
      ]
     },
     "execution_count": 15,
     "metadata": {},
     "output_type": "execute_result"
    }
   ],
   "source": [
    "Data.duplicated().sum()"
   ]
  },
  {
   "cell_type": "markdown",
   "id": "af105db6",
   "metadata": {},
   "source": [
    "### 1.4 Check Outliers\n",
    "\n",
    "#### 1.4.1 Box Plots\n",
    "Box plot is used to detect outliers in the data. There are no outliers in all numerical columns excluding Work Experience.\n",
    "\n",
    "The customer Work Experience is concentrated between 0 and 7.5 and there is another customer sitting around 17. Outliers lead to wrong conclusions and therefore can be removed from the data if its due to typing errors."
   ]
  },
  {
   "cell_type": "code",
   "execution_count": 40,
   "id": "892bc5ae",
   "metadata": {},
   "outputs": [
    {
     "data": {
      "image/png": "[encoded data removed]",
      "text/plain": [
       "<Figure size 432x288 with 1 Axes>"
      ]
     },
     "metadata": {
      "needs_background": "light"
     },
     "output_type": "display_data"
    },
    {
     "data": {
      "image/png": "[encoded data removed]",
      "text/plain": [
       "<Figure size 432x288 with 1 Axes>"
      ]
     },
     "metadata": {
      "needs_background": "light"
     },
     "output_type": "display_data"
    },
    {
     "data": {
      "image/png": "[encoded data removed]",
      "text/plain": [
       "<Figure size 432x288 with 1 Axes>"
      ]
     },
     "metadata": {
      "needs_background": "light"
     },
     "output_type": "display_data"
    },
    {
     "data": {
      "image/png": "[encoded data removed]",
      "text/plain": [
       "<Figure size 432x288 with 1 Axes>"
      ]
     },
     "metadata": {
      "needs_background": "light"
     },
     "output_type": "display_data"
    },
    {
     "data": {
      "image/png": "[encoded data removed]",
      "text/plain": [
       "<Figure size 432x288 with 1 Axes>"
      ]
     },
     "metadata": {
      "needs_background": "light"
     },
     "output_type": "display_data"
    }
   ],
   "source": [
    "# Box plot of the customer Annual income in US dollar\n",
    "sns.boxplot(x=Data['Annual Income ($)'])\n",
    "plt.show()\n",
    "\n",
    "# Box plot of the customer Age\n",
    "sns.boxplot(x=Data['Age'])\n",
    "plt.show()\n",
    "\n",
    "# Box plot of the customer Work Experience\n",
    "sns.boxplot(x=Data['Work Experience'])\n",
    "plt.show()\n",
    "\n",
    "# Box plot of the customer Family Size\n",
    "sns.boxplot(x=Data['Family Size'])\n",
    "plt.show()\n",
    "\n",
    "# Box plot of the customer Spending Score (1-100)\n",
    "sns.boxplot(x=Data['Spending Score (1-100)'])\n",
    "plt.show()"
   ]
  },
  {
   "cell_type": "markdown",
   "id": "3f1681e6",
   "metadata": {},
   "source": [
    "### 2. Descriptive statistics\n",
    "\n",
    "#### 2.1 Measures of Central Tendency"
   ]
  },
  {
   "cell_type": "markdown",
   "id": "9bbe16c3",
   "metadata": {},
   "source": [
    "##### 2.1.1 Mean / Average"
   ]
  },
  {
   "cell_type": "code",
   "execution_count": 57,
   "id": "2c50bbd6",
   "metadata": {},
   "outputs": [
    {
     "name": "stdout",
     "output_type": "stream",
     "text": [
      "Mean of income: 110731.8215\n",
      "Mean of Age: 48.96\n",
      "Mean of Work Experience: 4.1025\n",
      "Mean of Family Size: 3.7685\n",
      "Mean of Spending Score: 50.9625\n"
     ]
    }
   ],
   "source": [
    "#mean\n",
    "\n",
    "# Customer Annual income in US dollar\n",
    "mean_income = sum(Data['Annual Income ($)'])/len(Data)\n",
    "print('Mean of income:', mean_income)\n",
    "\n",
    "# # Customer Age\n",
    "mean_age = sum(Data['Age'])/len(Data)\n",
    "print('Mean of Age:',mean_age)\n",
    "\n",
    "# # Customer Work Experience'\n",
    "mean_Work_Experience = sum(Data['Work Experience'])/len(Data)\n",
    "print('Mean of Work Experience:',mean_Work_Experience)\n",
    "\n",
    "\n",
    "# # Customer Family Size\n",
    "mean_Family_Size = sum(Data['Family Size'])/len(Data)\n",
    "print('Mean of Family Size:',mean_Family_Size)\n",
    "\n",
    "# # Customer Spending Score (1-100)\n",
    "mean_Spending_Score = sum(Data['Spending Score (1-100)'])/len(Data)\n",
    "print('Mean of Spending Score:',mean_Spending_Score)"
   ]
  },
  {
   "cell_type": "markdown",
   "id": "04239f9b",
   "metadata": {},
   "source": [
    "##### 2.1.2 Median\n",
    "\n",
    "Median is the middle value after the data is sorted in increasing order."
   ]
  },
  {
   "cell_type": "code",
   "execution_count": 84,
   "id": "bcb349b1",
   "metadata": {},
   "outputs": [
    {
     "name": "stdout",
     "output_type": "stream",
     "text": [
      "median of income: 109895\n",
      "median of Age: 48\n",
      "median of Work Experience: 3\n",
      "median of Family Size: 4\n",
      "median of Spending Score (1-100): 50\n"
     ]
    }
   ],
   "source": [
    "#Median Function\n",
    "def median(data):\n",
    "    sorted_data = sorted(data)\n",
    "    data_len = len(sorted_data)\n",
    "    middle = (data_len - 1) // 2\n",
    "    if middle % 2:\n",
    "        return sorted_data[middle]\n",
    "    else:\n",
    "        return (sorted_data[middle] + sorted_data[middle + 1]) / 2.0\n",
    "\n",
    "#Median of annual income\n",
    "numbers = Data['Annual Income ($)']\n",
    "median_income = median1(numbers)\n",
    "print('median of income:',median_income)\n",
    "\n",
    "#Median of age\n",
    "numbers = Data['Age']\n",
    "median_age = median(numbers)\n",
    "print('median of Age:',median_age)\n",
    "\n",
    "#Median of Work Experience\n",
    "numbers = Data['Work Experience']\n",
    "median_exp = median(numbers)\n",
    "print('median of Work Experience:',median_exp)\n",
    "\n",
    "#Median of Family Size\n",
    "numbers = Data['Family Size']\n",
    "median_fam = median(numbers)\n",
    "print('median of Family Size:',median_fam)\n",
    "\n",
    "#Median of Spending Score (1-100)\n",
    "numbers = Data['Spending Score (1-100)']\n",
    "median_score = median(numbers)\n",
    "print('median of Spending Score (1-100):',median_score)\n",
    "\n"
   ]
  },
  {
   "cell_type": "markdown",
   "id": "8b506032",
   "metadata": {},
   "source": [
    "##### 2.1.3 Mode\n",
    "\n",
    "Mode is the number that appears more frequently in the data"
   ]
  },
  {
   "cell_type": "code",
   "execution_count": 88,
   "id": "193c58f7",
   "metadata": {},
   "outputs": [
    {
     "name": "stdout",
     "output_type": "stream",
     "text": [
      "The Mode of Income: 9000, 50000\n",
      "The Mode of Age: 31\n",
      "The Mode of Work Experience: 1\n",
      "The Mode of Family Size: 2\n",
      "The Mode of Spending Score (1-100): 49\n"
     ]
    }
   ],
   "source": [
    "#Mode of Income\n",
    "num_list = Data['Annual Income ($)']\n",
    "# calculate the frequency of each item\n",
    "data = collections.Counter(num_list)\n",
    "data_list = dict(data)\n",
    "# Find the highest frequency\n",
    "max_value = max(list(data.values()))\n",
    "mode_val = [num for num, freq in data_list.items() if freq == max_value]\n",
    "if len(mode_val) == len(num_list):\n",
    "   print(\"No mode in the list\")\n",
    "else:\n",
    "   print(\"The Mode of Income: \" + ', '.join(map(str, mode_val)))\n",
    "\n",
    "#Mode of Age\n",
    "num_list = Data['Age']\n",
    "# calculate the frequency of each item\n",
    "data = collections.Counter(num_list)\n",
    "data_list = dict(data)\n",
    "# Find the highest frequency\n",
    "max_value = max(list(data.values()))\n",
    "mode_val = [num for num, freq in data_list.items() if freq == max_value]\n",
    "if len(mode_val) == len(num_list):\n",
    "   print(\"No mode in the list\")\n",
    "else:\n",
    "   print(\"The Mode of Age: \" + ', '.join(map(str, mode_val)))\n",
    "\n",
    "#Mode of Work Experience\n",
    "num_list = Data['Work Experience']\n",
    "# calculate the frequency of each item\n",
    "data = collections.Counter(num_list)\n",
    "data_list = dict(data)\n",
    "# Find the highest frequency\n",
    "max_value = max(list(data.values()))\n",
    "mode_val = [num for num, freq in data_list.items() if freq == max_value]\n",
    "if len(mode_val) == len(num_list):\n",
    "   print(\"No mode in the list\")\n",
    "else:\n",
    "   print(\"The Mode of Work Experience: \" + ', '.join(map(str, mode_val)))\n",
    "\n",
    "#Mode of Family Size\n",
    "num_list = Data['Family Size']\n",
    "# calculate the frequency of each item\n",
    "data = collections.Counter(num_list)\n",
    "data_list = dict(data)\n",
    "# Find the highest frequency\n",
    "max_value = max(list(data.values()))\n",
    "mode_val = [num for num, freq in data_list.items() if freq == max_value]\n",
    "if len(mode_val) == len(num_list):\n",
    "   print(\"No mode in the list\")\n",
    "else:\n",
    "   print(\"The Mode of Family Size: \" + ', '.join(map(str, mode_val)))\n",
    "\n",
    "#Mode of Spending Score (1-100)\n",
    "num_list = Data['Spending Score (1-100)']\n",
    "# calculate the frequency of each item\n",
    "data = collections.Counter(num_list)\n",
    "data_list = dict(data)\n",
    "# Find the highest frequency\n",
    "max_value = max(list(data.values()))\n",
    "mode_val = [num for num, freq in data_list.items() if freq == max_value]\n",
    "if len(mode_val) == len(num_list):\n",
    "   print(\"No mode in the list\")\n",
    "else:\n",
    "   print(\"The Mode of Spending Score (1-100): \" + ', '.join(map(str, mode_val)))\n",
    "\n",
    "\n"
   ]
  },
  {
   "cell_type": "markdown",
   "id": "e4113353",
   "metadata": {},
   "source": [
    "##### 2.1.4 Minimum, Maximum and Range"
   ]
  },
  {
   "cell_type": "code",
   "execution_count": 97,
   "id": "93d3c5a5",
   "metadata": {},
   "outputs": [
    {
     "name": "stdout",
     "output_type": "stream",
     "text": [
      "The Min of Income:  0\n",
      "The Max of Income:  189974\n",
      "The Range of Income:  189974\n",
      "-----------------------\n",
      "The Min of Age:  0\n",
      "The Max of Age:  99\n",
      "The Range of Age:  99\n",
      "-----------------------\n",
      "The Min of Work Experience:  0\n",
      "The Max of Work Experience):  17\n",
      "The Range of Work Experience:  17\n",
      "-----------------------\n",
      "The Min of Family Size:  1\n",
      "The Max of Family Size):  9\n",
      "The Range of Family Size:  8\n",
      "-----------------------\n",
      "The Min of Spending Score (1-100):  0\n",
      "The Max of Spending Score (1-100):  17\n",
      "The Range of Spending Score (1-100):  17\n",
      "-----------------------\n",
      "The Min of Spending Score (1-100):  0\n",
      "The Max of Spending Score (1-100):  100\n",
      "The Range of Spending Score (1-100):  100\n"
     ]
    }
   ],
   "source": [
    "   \n",
    "    #Min, Max and Range of Annual Income ($)\n",
    "    numbers = Data['Annual Income ($)']\n",
    "    n_min = min(numbers)\n",
    "    n_max = max(numbers)\n",
    "    n_range = n_max - n_min\n",
    "    print(\"The Min of Income: \",n_min)\n",
    "    print(\"The Max of Income: \", n_max)\n",
    "    print(\"The Range of Income: \",n_range)  \n",
    "    print(\"-----------------------\")\n",
    "    \n",
    "    #Min, Max and Range of Age\n",
    "    numbers = Data['Age']\n",
    "    n_min = min(numbers)\n",
    "    n_max = max(numbers)\n",
    "    n_range = n_max - n_min\n",
    "    print(\"The Min of Age: \",n_min)\n",
    "    print(\"The Max of Age: \", n_max)\n",
    "    print(\"The Range of Age: \",n_range) \n",
    "    print(\"-----------------------\")\n",
    "    \n",
    "    #Min, Max and Range of Work Experience\n",
    "    numbers = Data['Work Experience']\n",
    "    n_min = min(numbers)\n",
    "    n_max = max(numbers)\n",
    "    n_range = n_max - n_min\n",
    "    print(\"The Min of Work Experience: \",n_min)\n",
    "    print(\"The Max of Work Experience): \", n_max)\n",
    "    print(\"The Range of Work Experience: \",n_range) \n",
    "    print(\"-----------------------\")\n",
    "    \n",
    "    #Min, Max and Range of Family Size\n",
    "    numbers = Data['Family Size']\n",
    "    n_min = min(numbers)\n",
    "    n_max = max(numbers)\n",
    "    n_range = n_max - n_min\n",
    "    print(\"The Min of Family Size: \",n_min)\n",
    "    print(\"The Max of Family Size): \", n_max)\n",
    "    print(\"The Range of Family Size: \",n_range) \n",
    "    print(\"-----------------------\")\n",
    "    \n",
    "    #Min, Max and Range of\n",
    "    numbers = Data['Work Experience']\n",
    "    n_min = min(numbers)\n",
    "    n_max = max(numbers)\n",
    "    n_range = n_max - n_min\n",
    "    print(\"The Min of Spending Score (1-100): \",n_min)\n",
    "    print(\"The Max of Spending Score (1-100): \", n_max)\n",
    "    print(\"The Range of Spending Score (1-100): \",n_range) \n",
    "    print(\"-----------------------\")\n",
    "    \n",
    "    #Min, Max and Range of Spending Score (1-100)\n",
    "    numbers = Data['Spending Score (1-100)']\n",
    "    n_min = min(numbers)\n",
    "    n_max = max(numbers)\n",
    "    n_range = n_max - n_min\n",
    "    print(\"The Min of Spending Score (1-100): \",n_min)\n",
    "    print(\"The Max of Spending Score (1-100): \", n_max)\n",
    "    print(\"The Range of Spending Score (1-100): \",n_range)  "
   ]
  },
  {
   "cell_type": "markdown",
   "id": "5b0d9c2f",
   "metadata": {},
   "source": [
    "##### 2.1.5 The Variance\n",
    "\n",
    "The variance shows the distance between the data points and the mean. The higher the explained variance of a model, the more the model is able to explain the variation in the data"
   ]
  },
  {
   "cell_type": "code",
   "execution_count": 104,
   "id": "e2f48c45",
   "metadata": {},
   "outputs": [
    {
     "name": "stdout",
     "output_type": "stream",
     "text": [
      "The variance of Income is : 2091059163.8506389\n",
      "The variance of Age is : 807.8464000000018\n",
      "The variance of Work Experience is : 15.375993749999946\n",
      "The variance of Family Size is : 3.881907750000017\n",
      "The variance of Spending Score (1-100) is : 779.9550937500053\n"
     ]
    }
   ],
   "source": [
    "#Variance of Anual Income\n",
    "list1 = Data['Annual Income ($)']\n",
    "ans = sum((i - (sum(list1) / int(len(list1)))) ** 2 for i in list1) / int(len(list1))\n",
    "print(\"The variance of Income is : \" + str(ans))\n",
    "\n",
    "#Variance of Age\n",
    "list1 = Data['Age']\n",
    "ans = sum((i - (sum(list1) / int(len(list1)))) ** 2 for i in list1) / int(len(list1))\n",
    "print(\"The variance of Age is : \" + str(ans))\n",
    "\n",
    "#Variance of Work Experience\n",
    "list1 = Data['Work Experience']\n",
    "ans = sum((i - (sum(list1) / int(len(list1)))) ** 2 for i in list1) / int(len(list1))\n",
    "print(\"The variance of Work Experience is : \" + str(ans))\n",
    "\n",
    "#Variance of Family Size\n",
    "list1 = Data['Family Size']\n",
    "ans = sum((i - (sum(list1) / int(len(list1)))) ** 2 for i in list1) / int(len(list1))\n",
    "print(\"The variance of Family Size is : \" + str(ans))\n",
    "\n",
    "#Variance of Spending Score (1-100)\n",
    "list1 = Data['Spending Score (1-100)']\n",
    "ans = sum((i - (sum(list1) / int(len(list1)))) ** 2 for i in list1) / int(len(list1))\n",
    "print(\"The variance of Spending Score (1-100) is : \" + str(ans))\n",
    "\n",
    "\n"
   ]
  },
  {
   "cell_type": "markdown",
   "id": "43abb778",
   "metadata": {},
   "source": [
    "##### 2.1.6 Histogram to show distribution of the data\n",
    "\n",
    "Middle values observed from the below Histograms below agrees to the mean values produced by the average calculation in section 2.1.1 above."
   ]
  },
  {
   "cell_type": "code",
   "execution_count": 114,
   "id": "f7edf415",
   "metadata": {},
   "outputs": [
    {
     "data": {
      "image/png": "[encoded data removed]",
      "text/plain": [
       "<Figure size 432x288 with 1 Axes>"
      ]
     },
     "metadata": {
      "needs_background": "light"
     },
     "output_type": "display_data"
    },
    {
     "data": {
      "image/png": "[encoded data removed]",
      "text/plain": [
       "<Figure size 432x288 with 1 Axes>"
      ]
     },
     "metadata": {
      "needs_background": "light"
     },
     "output_type": "display_data"
    },
    {
     "data": {
      "image/png": "[encoded data removed]",
      "text/plain": [
       "<Figure size 432x288 with 1 Axes>"
      ]
     },
     "metadata": {
      "needs_background": "light"
     },
     "output_type": "display_data"
    },
    {
     "data": {
      "image/png": "[encoded data removed]",
      "text/plain": [
       "<Figure size 432x288 with 1 Axes>"
      ]
     },
     "metadata": {
      "needs_background": "light"
     },
     "output_type": "display_data"
    },
    {
     "data": {
      "image/png": "[encoded data removed]",
      "text/plain": [
       "<Figure size 432x288 with 1 Axes>"
      ]
     },
     "metadata": {
      "needs_background": "light"
     },
     "output_type": "display_data"
    }
   ],
   "source": [
    "#histogram of Annual income\n",
    "plt.hist(Data['Annual Income ($)'])\n",
    "plt.title(\"Histogram of Customer Annual Income\")\n",
    "plt.show() \n",
    "\n",
    "#histogram of Age\n",
    "plt.hist(Data['Age'])\n",
    "plt.title(\"Histogram of Customer Age\")\n",
    "plt.show() \n",
    "\n",
    "#Histogram of Work Experience\n",
    "plt.hist(Data['Work Experience'])\n",
    "plt.title(\"Histogram of Customer Work Experience\")\n",
    "plt.show() \n",
    "\n",
    "#Histogram of Family Size\n",
    "plt.hist(Data['Family Size'])\n",
    "plt.title(\"Histogram of Customer Family Size\")\n",
    "plt.show() \n",
    "\n",
    "# Histogram of Spending Score\n",
    "plt.hist(Data['Spending Score (1-100)'])\n",
    "plt.title(\"Histogram of Customer Spending Score\")\n",
    "plt.show() "
   ]
  }
 ],
 "metadata": {
  "kernelspec": {
   "display_name": "Python 3 (ipykernel)",
   "language": "python",
   "name": "python3"
  },
  "language_info": {
   "codemirror_mode": {
    "name": "ipython",
    "version": 3
   },
   "file_extension": ".py",
   "mimetype": "text/x-python",
   "name": "python",
   "nbconvert_exporter": "python",
   "pygments_lexer": "ipython3",
   "version": "3.9.12"
  }
 },
 "nbformat": 4,
 "nbformat_minor": 5
}
